{
 "cells": [
  {
   "cell_type": "code",
   "execution_count": 1,
   "id": "af751194-bb56-4ef2-b907-05e30edfcaee",
   "metadata": {},
   "outputs": [],
   "source": [
    "with open('input.txt', 'r', encoding='utf-8') as file:\n",
    "    text = file.read()"
   ]
  },
  {
   "cell_type": "code",
   "execution_count": 2,
   "id": "812693d8-f406-4cd0-97a5-4a4f72d46035",
   "metadata": {},
   "outputs": [
    {
     "data": {
      "text/plain": [
       "1115393"
      ]
     },
     "execution_count": 2,
     "metadata": {},
     "output_type": "execute_result"
    }
   ],
   "source": [
    "len(text)"
   ]
  },
  {
   "cell_type": "code",
   "execution_count": 7,
   "id": "b9cb7d43-1bde-4dba-b5c2-aa204d448b25",
   "metadata": {},
   "outputs": [],
   "source": [
    "chars = sorted(list(set(text))) # stores all the characters sorted.\n",
    "# set() is used to get the unique characters.\n",
    "# list() is used to transform to a Python list.\n",
    "# sorted() is used to sort the elements. \n",
    "\n",
    "vocab_size = len(chars) # stores the vocabolary size."
   ]
  },
  {
   "cell_type": "code",
   "execution_count": 18,
   "id": "2117b55c-db05-445e-9a51-cf5bf8161320",
   "metadata": {},
   "outputs": [],
   "source": [
    "encode_dict = { ch:i for i, ch in enumerate(chars) } # encoding of character to integer.\n",
    "decode_dict = { i:ch for i, ch in enumerate(chars) } # decoding of integer to character.\n",
    "\n",
    "def encode(s):\n",
    "    return [encode_dict[c] for c in s]\n",
    "\n",
    "def decode(d):\n",
    "    return ''.join([decode_dict[n] for n in d])"
   ]
  },
  {
   "cell_type": "code",
   "execution_count": 28,
   "id": "2f86722a-a7e4-4b93-9089-2eb83aab15b4",
   "metadata": {},
   "outputs": [],
   "source": [
    "import torch\n",
    "\n",
    "# transforming the data into a pytorch tensor.\n",
    "data = torch.tensor(\n",
    "    encode(text),\n",
    "    dtype=torch.long,\n",
    ") "
   ]
  },
  {
   "cell_type": "code",
   "execution_count": 32,
   "id": "7959af32-19d4-4c9e-9d02-c223672f1644",
   "metadata": {},
   "outputs": [],
   "source": [
    "# splitting the data into training and testing sets.\n",
    "n = int(0.9 * len(data))\n",
    "train_data = data[:n]\n",
    "val_data = data[n:]"
   ]
  },
  {
   "cell_type": "code",
   "execution_count": 33,
   "id": "fe22fb51-06b3-4f28-b5cb-879ad427cebc",
   "metadata": {},
   "outputs": [
    {
     "data": {
      "text/plain": [
       "tensor([18, 47, 56, 57, 58,  1, 15, 47, 58])"
      ]
     },
     "execution_count": 33,
     "metadata": {},
     "output_type": "execute_result"
    }
   ],
   "source": [
    "block_size = 8\n",
    "\n",
    "train_data[:block_size + 1]"
   ]
  },
  {
   "cell_type": "code",
   "execution_count": 43,
   "id": "3661e535-e13f-4773-b10b-d0f41983b928",
   "metadata": {},
   "outputs": [
    {
     "name": "stdout",
     "output_type": "stream",
     "text": [
      "x = tensor([18, 47, 56, 57, 58,  1, 15, 47])\n",
      "y = tensor([47, 56, 57, 58,  1, 15, 47, 58])\n",
      "When input is: tensor([18]) the target is: 47\n",
      "When input is: tensor([18, 47]) the target is: 56\n",
      "When input is: tensor([18, 47, 56]) the target is: 57\n",
      "When input is: tensor([18, 47, 56, 57]) the target is: 58\n",
      "When input is: tensor([18, 47, 56, 57, 58]) the target is: 1\n",
      "When input is: tensor([18, 47, 56, 57, 58,  1]) the target is: 15\n",
      "When input is: tensor([18, 47, 56, 57, 58,  1, 15]) the target is: 47\n",
      "When input is: tensor([18, 47, 56, 57, 58,  1, 15, 47]) the target is: 58\n"
     ]
    }
   ],
   "source": [
    "x = train_data[:block_size]\n",
    "y = train_data[1:block_size+1]\n",
    "\n",
    "print(f\"x = {x}\")\n",
    "print(f\"y = {y}\")\n",
    "\n",
    "for t in range(block_size):\n",
    "    context = x[:t+1]\n",
    "    target = y[t]\n",
    "    print(f\"When input is: {context} the target is: {target}\")"
   ]
  },
  {
   "cell_type": "code",
   "execution_count": 61,
   "id": "845bf5d3-48a3-4340-91a3-59405cf447ad",
   "metadata": {},
   "outputs": [
    {
     "name": "stdout",
     "output_type": "stream",
     "text": [
      "inputs:\n",
      "torch.Size([4, 8])\n",
      "tensor([[53, 59,  6,  1, 58, 56, 47, 40],\n",
      "        [49, 43, 43, 54,  1, 47, 58,  1],\n",
      "        [13, 52, 45, 43, 50, 53,  8,  0],\n",
      "        [ 1, 39,  1, 46, 53, 59, 57, 43]])\n",
      "targets:\n",
      "torch.Size([4, 8])\n",
      "tensor([[59,  6,  1, 58, 56, 47, 40, 59],\n",
      "        [43, 43, 54,  1, 47, 58,  1, 58],\n",
      "        [52, 45, 43, 50, 53,  8,  0, 26],\n",
      "        [39,  1, 46, 53, 59, 57, 43,  0]])\n",
      "-----\n",
      "When input is [53], the target is: 59\n",
      "When input is [53, 59], the target is: 6\n",
      "When input is [53, 59, 6], the target is: 1\n",
      "When input is [53, 59, 6, 1], the target is: 58\n",
      "When input is [53, 59, 6, 1, 58], the target is: 56\n",
      "When input is [53, 59, 6, 1, 58, 56], the target is: 47\n",
      "When input is [53, 59, 6, 1, 58, 56, 47], the target is: 40\n",
      "When input is [53, 59, 6, 1, 58, 56, 47, 40], the target is: 59\n",
      "When input is [49], the target is: 43\n",
      "When input is [49, 43], the target is: 43\n",
      "When input is [49, 43, 43], the target is: 54\n",
      "When input is [49, 43, 43, 54], the target is: 1\n",
      "When input is [49, 43, 43, 54, 1], the target is: 47\n",
      "When input is [49, 43, 43, 54, 1, 47], the target is: 58\n",
      "When input is [49, 43, 43, 54, 1, 47, 58], the target is: 1\n",
      "When input is [49, 43, 43, 54, 1, 47, 58, 1], the target is: 58\n",
      "When input is [13], the target is: 52\n",
      "When input is [13, 52], the target is: 45\n",
      "When input is [13, 52, 45], the target is: 43\n",
      "When input is [13, 52, 45, 43], the target is: 50\n",
      "When input is [13, 52, 45, 43, 50], the target is: 53\n",
      "When input is [13, 52, 45, 43, 50, 53], the target is: 8\n",
      "When input is [13, 52, 45, 43, 50, 53, 8], the target is: 0\n",
      "When input is [13, 52, 45, 43, 50, 53, 8, 0], the target is: 26\n",
      "When input is [1], the target is: 39\n",
      "When input is [1, 39], the target is: 1\n",
      "When input is [1, 39, 1], the target is: 46\n",
      "When input is [1, 39, 1, 46], the target is: 53\n",
      "When input is [1, 39, 1, 46, 53], the target is: 59\n",
      "When input is [1, 39, 1, 46, 53, 59], the target is: 57\n",
      "When input is [1, 39, 1, 46, 53, 59, 57], the target is: 43\n",
      "When input is [1, 39, 1, 46, 53, 59, 57, 43], the target is: 0\n"
     ]
    }
   ],
   "source": [
    "torch.manual_seed(1337)\n",
    "batch_size = 4\n",
    "block_size = 8\n",
    "\n",
    "def get_batch(split):\n",
    "    data = train_data if split == 'train' else val_data\n",
    "    ix = torch.randint(len(data) - block_size, (batch_size,))\n",
    "   \n",
    "    x = torch.stack([data[i:i+block_size] for i in ix])\n",
    "    y = torch.stack([data[i+1:i+block_size+1] for i in ix])\n",
    "\n",
    "    return x, y\n"
   ]
  }
 ],
 "metadata": {
  "kernelspec": {
   "display_name": "Python 3 (ipykernel)",
   "language": "python",
   "name": "python3"
  },
  "language_info": {
   "codemirror_mode": {
    "name": "ipython",
    "version": 3
   },
   "file_extension": ".py",
   "mimetype": "text/x-python",
   "name": "python",
   "nbconvert_exporter": "python",
   "pygments_lexer": "ipython3",
   "version": "3.12.9"
  }
 },
 "nbformat": 4,
 "nbformat_minor": 5
}
