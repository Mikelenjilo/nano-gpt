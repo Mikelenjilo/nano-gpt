{
 "cells": [
  {
   "cell_type": "code",
   "execution_count": 1,
   "id": "79f84040-0ede-4314-a91c-6816269dca5b",
   "metadata": {},
   "outputs": [],
   "source": [
    "from functions.encoding_decoding import encode, decode"
   ]
  },
  {
   "cell_type": "code",
   "execution_count": 2,
   "id": "af751194-bb56-4ef2-b907-05e30edfcaee",
   "metadata": {},
   "outputs": [],
   "source": [
    "with open('input.txt', 'r', encoding='utf-8') as file:\n",
    "    text = file.read()"
   ]
  },
  {
   "cell_type": "code",
   "execution_count": 3,
   "id": "b9cb7d43-1bde-4dba-b5c2-aa204d448b25",
   "metadata": {},
   "outputs": [],
   "source": [
    "chars = sorted(list(set(text))) # stores all the characters sorted.\n",
    "# set() is used to get the unique characters.\n",
    "# list() is used to transform to a Python list.\n",
    "# sorted() is used to sort the elements. \n",
    "\n",
    "vocab_size = len(chars) # stores the vocabolary size."
   ]
  },
  {
   "cell_type": "code",
   "execution_count": 8,
   "id": "2f86722a-a7e4-4b93-9089-2eb83aab15b4",
   "metadata": {},
   "outputs": [
    {
     "data": {
      "text/plain": [
       "tensor([18, 47, 56,  ..., 52, 45,  8])"
      ]
     },
     "execution_count": 8,
     "metadata": {},
     "output_type": "execute_result"
    }
   ],
   "source": [
    "import torch\n",
    "\n",
    "# transforming the data into a pytorch tensor.\n",
    "data = torch.tensor(\n",
    "    encode(text),\n",
    "    dtype=torch.long,\n",
    ")\n",
    "\n",
    "data"
   ]
  },
  {
   "cell_type": "code",
   "execution_count": 9,
   "id": "7959af32-19d4-4c9e-9d02-c223672f1644",
   "metadata": {},
   "outputs": [],
   "source": [
    "# splitting the data into training and testing sets.\n",
    "n = int(0.9 * len(data))\n",
    "train_data = data[:n]\n",
    "val_data = data[n:]"
   ]
  },
  {
   "cell_type": "code",
   "execution_count": 10,
   "id": "fe22fb51-06b3-4f28-b5cb-879ad427cebc",
   "metadata": {},
   "outputs": [
    {
     "data": {
      "text/plain": [
       "tensor([18, 47, 56, 57, 58,  1, 15, 47, 58])"
      ]
     },
     "execution_count": 10,
     "metadata": {},
     "output_type": "execute_result"
    }
   ],
   "source": [
    "block_size = 8\n",
    "\n",
    "train_data[:block_size + 1]"
   ]
  },
  {
   "cell_type": "code",
   "execution_count": 12,
   "id": "3661e535-e13f-4773-b10b-d0f41983b928",
   "metadata": {},
   "outputs": [
    {
     "name": "stdout",
     "output_type": "stream",
     "text": [
      "x = tensor([18, 47, 56, 57, 58,  1, 15, 47])\n",
      "y = tensor([47, 56, 57, 58,  1, 15, 47, 58])\n",
      "When input is: tensor([18]) the target is: 47\n",
      "When input is: tensor([18, 47]) the target is: 56\n",
      "When input is: tensor([18, 47, 56]) the target is: 57\n",
      "When input is: tensor([18, 47, 56, 57]) the target is: 58\n",
      "When input is: tensor([18, 47, 56, 57, 58]) the target is: 1\n",
      "When input is: tensor([18, 47, 56, 57, 58,  1]) the target is: 15\n",
      "When input is: tensor([18, 47, 56, 57, 58,  1, 15]) the target is: 47\n",
      "When input is: tensor([18, 47, 56, 57, 58,  1, 15, 47]) the target is: 58\n"
     ]
    }
   ],
   "source": [
    "x = train_data[:block_size]\n",
    "y = train_data[1:block_size+1]\n",
    "\n",
    "print(f\"x = {x}\")\n",
    "print(f\"y = {y}\")\n",
    "\n",
    "for t in range(block_size):\n",
    "    context = x[:t+1]\n",
    "    target = y[t]\n",
    "    print(f\"When input is: {context} the target is: {target}\")"
   ]
  }
 ],
 "metadata": {
  "kernelspec": {
   "display_name": "Python 3 (ipykernel)",
   "language": "python",
   "name": "python3"
  },
  "language_info": {
   "codemirror_mode": {
    "name": "ipython",
    "version": 3
   },
   "file_extension": ".py",
   "mimetype": "text/x-python",
   "name": "python",
   "nbconvert_exporter": "python",
   "pygments_lexer": "ipython3",
   "version": "3.12.8"
  }
 },
 "nbformat": 4,
 "nbformat_minor": 5
}
